{
 "cells": [
  {
   "cell_type": "markdown",
   "metadata": {},
   "source": [
    "Jordan Hoover  \n",
    "CSC 385  \n",
    "Assignment: Graph Theory network analysis"
   ]
  },
  {
   "cell_type": "code",
   "execution_count": null,
   "metadata": {
    "collapsed": true
   },
   "outputs": [],
   "source": [
    "import networkx as nx\n",
    "import numpy as np\n",
    "import matplotlib.pyplot as plt\n",
    "%matplotlib inline"
   ]
  },
  {
   "cell_type": "code",
   "execution_count": null,
   "metadata": {
    "collapsed": false
   },
   "outputs": [],
   "source": [
    "M = nx.read_gml(\"polblogs.gml\")"
   ]
  },
  {
   "cell_type": "code",
   "execution_count": null,
   "metadata": {
    "collapsed": true
   },
   "outputs": [],
   "source": [
    "# create weighted graph from M\n",
    "G = nx.Graph()\n",
    "for u,v,data in M.edges_iter(data=True):\n",
    "    if G.has_edge(u,v):\n",
    "        G[u][v]['weight'] += 1\n",
    "    else:\n",
    "        G.add_edge(u, v, weight=1)"
   ]
  },
  {
   "cell_type": "markdown",
   "metadata": {},
   "source": [
    "Assignment Instructions: \n",
    "* Create a nice looking graph of the political blog network\n",
    "* What are the 10 most influential blogs\n",
    "* What are the 10 least influential blogs\n",
    "* Answer this question for both left wing and right wing blogs seperately. (Optional 10 Extra Credit Points)  \n"
   ]
  },
  {
   "cell_type": "code",
   "execution_count": null,
   "metadata": {
    "collapsed": false
   },
   "outputs": [],
   "source": [
    "# draw the weighted graph of the network.\n",
    "nx.draw(G)"
   ]
  },
  {
   "cell_type": "code",
   "execution_count": null,
   "metadata": {
    "collapsed": false
   },
   "outputs": [],
   "source": [
    "# try the spring layout\n",
    "pos = nx.spring_layout(G)\n",
    "nx.draw(G, pos)"
   ]
  },
  {
   "cell_type": "code",
   "execution_count": null,
   "metadata": {
    "collapsed": false
   },
   "outputs": [],
   "source": [
    "# make a network graph like in the boston housing example\n",
    "\n",
    "plt.figure(figsize=(40,40))\n",
    "pos=nx.spring_layout(M, iterations=500, scale=5, k=.3)\n",
    "nx.draw_networkx_labels(M,pos,fontsize=8)\n",
    "font = {'fontname'   : 'Georgia',\n",
    "            'color'      : 'k',\n",
    "            'fontweight' : 'bold',\n",
    "            'fontsize'   : 14}\n",
    "plt.title(\"Political Blog Network\", font)\n",
    "\n",
    "\n",
    "nx.draw_networkx_nodes(M,pos,node_color='b',alpha=0.4)\n",
    "nx.draw_networkx_edges(M,pos,alpha=0.4,node_size=0,width=1,edge_color='k')\n",
    "plt.axis('off')\n",
    "plt.show()"
   ]
  },
  {
   "cell_type": "code",
   "execution_count": null,
   "metadata": {
    "collapsed": false
   },
   "outputs": [],
   "source": [
    "# Find Centrality/ find the most influential blogs\n",
    "\n",
    "# creates dictionary object of node and it's centrality score\n",
    "centrality = nx.eigenvector_centrality_numpy(G)"
   ]
  },
  {
   "cell_type": "code",
   "execution_count": null,
   "metadata": {
    "collapsed": true
   },
   "outputs": [],
   "source": [
    "# create a list of the blogs to sort\n",
    "blog_list = []\n",
    "for node in centrality:\n",
    "    blog_list.append((node,centrality[node]))\n",
    "    \n",
    "blog_person_list = blog_list.sort(key=lambda x: x[1])"
   ]
  },
  {
   "cell_type": "code",
   "execution_count": null,
   "metadata": {
    "collapsed": false
   },
   "outputs": [],
   "source": [
    "# sort list to show most influential blogs at the top\n",
    "sorted(blog_list, key=lambda x: x[1], reverse=True)"
   ]
  },
  {
   "cell_type": "markdown",
   "metadata": {},
   "source": [
    "# 10 Most influential blogs: (1 being most influential)\n",
    "1. atrios.blogspot.com\n",
    "2. dailykos.com\n",
    "3. washingtonmonthly.com\n",
    "4. digbysblog.blogspot.com\n",
    "5. bodyandsoul.typepad.com\n",
    "6. liberaloasis.com\n",
    "7. tbogg.blogspot.com\n",
    "8. corrente.blogspot.com\n",
    "9. talkingpointsmemo.com\n",
    "10. dneiwert.blogspot.com"
   ]
  },
  {
   "cell_type": "code",
   "execution_count": null,
   "metadata": {
    "collapsed": false
   },
   "outputs": [],
   "source": [
    "# sort the blog list with least influential first\n",
    "sorted(person_list, key=lambda x: x[1], reverse=False)"
   ]
  },
  {
   "cell_type": "markdown",
   "metadata": {},
   "source": [
    "# 10 least influential blogs: (1 being least influential, 10 being 10th least)\n",
    "1 digital-democrat.blogspot.com  \n",
    "2 thelonedem.com  \n",
    "3 americanworldview.tripod.com/weltansblog  \n",
    "4 quimundus.modblog.com  \n",
    "5 batr.org/commentary.html  \n",
    "6 batr.net  \n",
    "7 democratvoice.org  \n",
    "8 quimundus.squarespace.com  \n",
    "9 massachusetts-liberal.com  \n",
    "10 thingsasitis.net  "
   ]
  }
 ],
 "metadata": {
  "anaconda-cloud": {},
  "kernelspec": {
   "display_name": "Python [Root]",
   "language": "python",
   "name": "Python [Root]"
  },
  "language_info": {
   "codemirror_mode": {
    "name": "ipython",
    "version": 3
   },
   "file_extension": ".py",
   "mimetype": "text/x-python",
   "name": "python",
   "nbconvert_exporter": "python",
   "pygments_lexer": "ipython3",
   "version": "3.5.2"
  }
 },
 "nbformat": 4,
 "nbformat_minor": 0
}
