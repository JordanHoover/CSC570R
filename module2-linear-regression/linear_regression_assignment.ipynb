{
 "cells": [
  {
   "cell_type": "code",
   "execution_count": 1,
   "metadata": {
    "collapsed": true
   },
   "outputs": [],
   "source": [
    "#  Jordan Hoover\n",
    "#  CSC570R Fall 2016\n",
    "#  Assignment: \n",
    "#  LSA lab, using Python 3.5"
   ]
  },
  {
   "cell_type": "markdown",
   "metadata": {},
   "source": [
    "## Boston Housing Assignment\n",
    "\n",
    "In this assignment you'll be using linear regression to estimate the cost of house in boston, using a well known dataset.\n",
    "\n",
    "Goals:\n",
    "+  Measure the performance of the model I created using $R^{2}$ and MSE\n",
    "> Learn how to use sklearn.metrics.r2_score and sklearn.metrics.mean_squared_error\n",
    "+  Implement a new model using L2 regularization\n",
    "> Use sklearn.linear_model.Ridge or sklearn.linear_model.Lasso \n",
    "+  Get the best model you can by optimizing the regularization parameter.   "
   ]
  },
  {
   "cell_type": "code",
   "execution_count": 2,
   "metadata": {
    "collapsed": false
   },
   "outputs": [
    {
     "name": "stdout",
     "output_type": "stream",
     "text": [
      "Populating the interactive namespace from numpy and matplotlib\n"
     ]
    }
   ],
   "source": [
    "from sklearn import datasets\n",
    "import pandas as pd\n",
    "import matplotlib.pyplot as plt\n",
    "%pylab inline\n",
    "from sklearn.preprocessing import StandardScaler\n",
    "from sklearn.cross_validation import train_test_split\n",
    "from sklearn.metrics import mean_squared_error\n",
    "from sklearn.metrics import r2_score\n",
    "from sklearn.linear_model import LinearRegression\n",
    "from sklearn.linear_model import Lasso # use lasso: \n",
    "import math"
   ]
  },
  {
   "cell_type": "code",
   "execution_count": 3,
   "metadata": {
    "collapsed": false
   },
   "outputs": [
    {
     "name": "stdout",
     "output_type": "stream",
     "text": [
      "Boston House Prices dataset\n",
      "\n",
      "Notes\n",
      "------\n",
      "Data Set Characteristics:  \n",
      "\n",
      "    :Number of Instances: 506 \n",
      "\n",
      "    :Number of Attributes: 13 numeric/categorical predictive\n",
      "    \n",
      "    :Median Value (attribute 14) is usually the target\n",
      "\n",
      "    :Attribute Information (in order):\n",
      "        - CRIM     per capita crime rate by town\n",
      "        - ZN       proportion of residential land zoned for lots over 25,000 sq.ft.\n",
      "        - INDUS    proportion of non-retail business acres per town\n",
      "        - CHAS     Charles River dummy variable (= 1 if tract bounds river; 0 otherwise)\n",
      "        - NOX      nitric oxides concentration (parts per 10 million)\n",
      "        - RM       average number of rooms per dwelling\n",
      "        - AGE      proportion of owner-occupied units built prior to 1940\n",
      "        - DIS      weighted distances to five Boston employment centres\n",
      "        - RAD      index of accessibility to radial highways\n",
      "        - TAX      full-value property-tax rate per $10,000\n",
      "        - PTRATIO  pupil-teacher ratio by town\n",
      "        - B        1000(Bk - 0.63)^2 where Bk is the proportion of blacks by town\n",
      "        - LSTAT    % lower status of the population\n",
      "        - MEDV     Median value of owner-occupied homes in $1000's\n",
      "\n",
      "    :Missing Attribute Values: None\n",
      "\n",
      "    :Creator: Harrison, D. and Rubinfeld, D.L.\n",
      "\n",
      "This is a copy of UCI ML housing dataset.\n",
      "http://archive.ics.uci.edu/ml/datasets/Housing\n",
      "\n",
      "\n",
      "This dataset was taken from the StatLib library which is maintained at Carnegie Mellon University.\n",
      "\n",
      "The Boston house-price data of Harrison, D. and Rubinfeld, D.L. 'Hedonic\n",
      "prices and the demand for clean air', J. Environ. Economics & Management,\n",
      "vol.5, 81-102, 1978.   Used in Belsley, Kuh & Welsch, 'Regression diagnostics\n",
      "...', Wiley, 1980.   N.B. Various transformations are used in the table on\n",
      "pages 244-261 of the latter.\n",
      "\n",
      "The Boston house-price data has been used in many machine learning papers that address regression\n",
      "problems.   \n",
      "     \n",
      "**References**\n",
      "\n",
      "   - Belsley, Kuh & Welsch, 'Regression diagnostics: Identifying Influential Data and Sources of Collinearity', Wiley, 1980. 244-261.\n",
      "   - Quinlan,R. (1993). Combining Instance-Based and Model-Based Learning. In Proceedings on the Tenth International Conference of Machine Learning, 236-243, University of Massachusetts, Amherst. Morgan Kaufmann.\n",
      "   - many more! (see http://archive.ics.uci.edu/ml/datasets/Housing)\n",
      "\n"
     ]
    }
   ],
   "source": [
    "bean = datasets.load_boston()\n",
    "print(bean.DESCR)"
   ]
  },
  {
   "cell_type": "code",
   "execution_count": 4,
   "metadata": {
    "collapsed": true
   },
   "outputs": [],
   "source": [
    "def load_boston():\n",
    "    scaler = StandardScaler()\n",
    "    boston = datasets.load_boston()\n",
    "    X=boston.data\n",
    "    y=boston.target\n",
    "    X = scaler.fit_transform(X)\n",
    "    return train_test_split(X,y)\n",
    "    "
   ]
  },
  {
   "cell_type": "code",
   "execution_count": 5,
   "metadata": {
    "collapsed": true
   },
   "outputs": [],
   "source": [
    "X_train, X_test, y_train, y_test = load_boston()"
   ]
  },
  {
   "cell_type": "markdown",
   "metadata": {},
   "source": [
    "### Fitting a Linear Regression\n",
    "\n",
    "It's as easy as instantiating a new regression object (line 1) and giving your regression object your training data\n",
    "(line 2) by calling .fit(independent variables, dependent variable)\n",
    "\n",
    "The main steps are, \n",
    "* instantiate the regression object\n",
    "* give the object the training data\n",
    "* make the prediction\n",
    "* take a look at the results "
   ]
  },
  {
   "cell_type": "code",
   "execution_count": 6,
   "metadata": {
    "collapsed": false
   },
   "outputs": [],
   "source": [
    "# instantiate new regression object, give it training data, and then make predictions\n",
    "# I put fit and predict together to simplify code, so I don't repeat clf.predict(..) many times\n",
    "# Changed LinearRegression() object from clf to y_pred_lr to hold predicted values after fitting\n",
    "# I changed the variable name to something that was easier for me to remember\n",
    "# I since later learned that clf is the convention for naming the instance, but\n",
    "# did not want to change it back and risk screwing up the rest of the code.\n",
    "y_pred_lr = LinearRegression().fit(X_train, y_train).predict(X_test) "
   ]
  },
  {
   "cell_type": "markdown",
   "metadata": {},
   "source": [
    "### Making a Prediction\n",
    "X_test is our holdout set of data.  We know the answer (y_test) but the computer does not.   \n",
    "\n",
    "Using the command below, I create a tuple for each observation, where I'm combining the real value (y_test) with\n",
    "the value our regressor predicts (clf.predict(X_test))\n",
    "\n",
    "Use a similiar format to get your r2 and mse metrics working.  Using the [scikit learn api](http://scikit-learn.org/stable/modules/model_evaluation.html) if you need help!"
   ]
  },
  {
   "cell_type": "code",
   "execution_count": 7,
   "metadata": {
    "collapsed": false
   },
   "outputs": [
    {
     "data": {
      "text/plain": [
       "[(18.0, 19.397557962233932),\n",
       " (22.0, 27.18188428377406),\n",
       " (16.199999999999999, 20.381730857099303),\n",
       " (43.5, 39.703051852733189),\n",
       " (14.4, 3.7969206155713415),\n",
       " (7.2000000000000002, 9.5384893332743665),\n",
       " (20.100000000000001, 18.312467548842307),\n",
       " (15.1, 16.853226033906417),\n",
       " (18.5, 19.236289325893623),\n",
       " (17.399999999999999, 22.222312677082428),\n",
       " (21.100000000000001, 22.061006183481954),\n",
       " (17.100000000000001, 17.687939373025142),\n",
       " (10.4, 16.945675089450059),\n",
       " (11.9, 6.7855880646192421),\n",
       " (19.800000000000001, 21.741474707506374),\n",
       " (19.600000000000001, 20.98997019155977),\n",
       " (19.399999999999999, 23.298896841979825),\n",
       " (13.1, 14.123687193615039),\n",
       " (19.800000000000001, 18.403011361121123),\n",
       " (16.699999999999999, 19.707195246740714),\n",
       " (16.100000000000001, 18.717406636805709),\n",
       " (24.699999999999999, 22.945418680457241),\n",
       " (17.800000000000001, 17.686669481248387),\n",
       " (14.0, 13.993653072350169),\n",
       " (21.199999999999999, 23.159140413180971),\n",
       " (10.5, 13.093183934368632),\n",
       " (10.5, 5.63711293263),\n",
       " (23.699999999999999, 26.9744124885896),\n",
       " (18.5, 19.527874337823384),\n",
       " (50.0, 24.373386077428648),\n",
       " (21.0, 21.598765119948634),\n",
       " (22.0, 22.188453341443751),\n",
       " (29.600000000000001, 25.977645569425004),\n",
       " (17.0, 23.086918284372032),\n",
       " (20.800000000000001, 23.255775101823719),\n",
       " (18.300000000000001, 18.998142638100767),\n",
       " (15.199999999999999, 16.092980269498426),\n",
       " (18.699999999999999, 21.559077190874365),\n",
       " (14.9, 17.334678677527272),\n",
       " (12.800000000000001, 12.978524156516391),\n",
       " (7.2000000000000002, 18.022812523665237),\n",
       " (23.300000000000001, 22.056299784561155),\n",
       " (22.399999999999999, 22.539777920981326),\n",
       " (20.399999999999999, 22.971482664016673),\n",
       " (18.199999999999999, 14.253087201906451),\n",
       " (23.699999999999999, 27.562733654006408),\n",
       " (23.100000000000001, 20.908153507654962),\n",
       " (28.399999999999999, 28.528451661004141),\n",
       " (20.100000000000001, 19.953603825894422),\n",
       " (37.0, 30.89533352940208),\n",
       " (21.800000000000001, 20.629095647842711),\n",
       " (16.699999999999999, 20.418350073892032),\n",
       " (20.399999999999999, 19.897234316928433),\n",
       " (44.0, 37.335808284589923),\n",
       " (36.399999999999999, 33.155214348945655),\n",
       " (35.399999999999999, 31.416804929389855),\n",
       " (23.399999999999999, 24.383686709889457),\n",
       " (17.800000000000001, 23.389772320664342),\n",
       " (19.399999999999999, 17.172367466447835),\n",
       " (50.0, 25.250380655486076),\n",
       " (25.0, 28.646178624438875),\n",
       " (21.899999999999999, 38.887238314801849),\n",
       " (10.4, 6.4579511904225981),\n",
       " (22.699999999999999, 22.395734997140583),\n",
       " (18.800000000000001, 20.668827050248847),\n",
       " (35.399999999999999, 34.501241226078868),\n",
       " (12.0, 10.893435451147115),\n",
       " (21.699999999999999, 21.039277441328974),\n",
       " (22.5, 22.124210102266979),\n",
       " (10.9, 14.287171885444046),\n",
       " (14.5, 13.826021264426998),\n",
       " (23.899999999999999, 26.108870615092059),\n",
       " (22.800000000000001, 24.750423774970606),\n",
       " (19.699999999999999, 21.301306889698203),\n",
       " (34.899999999999999, 34.370869355428326),\n",
       " (21.399999999999999, 22.667400543583742),\n",
       " (24.5, 27.523944803785959),\n",
       " (23.100000000000001, 16.992923405189149),\n",
       " (19.399999999999999, 19.605871484638818),\n",
       " (22.800000000000001, 26.630217115760008),\n",
       " (18.5, 24.868239153819065),\n",
       " (20.300000000000001, 22.278107405948806),\n",
       " (22.600000000000001, 19.439044991886632),\n",
       " (19.100000000000001, 16.363769190972413),\n",
       " (45.399999999999999, 39.238834255694648),\n",
       " (25.0, 23.242202923771977),\n",
       " (43.100000000000001, 37.566569320734693),\n",
       " (17.600000000000001, 15.994371982065756),\n",
       " (9.5, 12.736263188925369),\n",
       " (17.100000000000001, 19.825404551181585),\n",
       " (24.800000000000001, 26.885060018964516),\n",
       " (11.5, 13.68591036027628),\n",
       " (21.5, 24.625945476444326),\n",
       " (18.399999999999999, 15.935757704988314),\n",
       " (22.899999999999999, 23.012443373969266),\n",
       " (18.899999999999999, 19.067831124667059),\n",
       " (50.0, 43.013624443290979),\n",
       " (13.1, 16.290927809954123),\n",
       " (28.0, 28.575288952303044),\n",
       " (23.800000000000001, 25.738084768939395),\n",
       " (33.200000000000003, 35.735841989846527),\n",
       " (18.5, 13.243002371382612),\n",
       " (17.899999999999999, 0.20619672590891724),\n",
       " (23.300000000000001, 26.541136904128127),\n",
       " (7.0, 7.9691453577682765),\n",
       " (22.699999999999999, 24.597162424756672),\n",
       " (27.899999999999999, 19.206716249909881),\n",
       " (25.0, 25.066049181554039),\n",
       " (11.300000000000001, 13.045965126755641),\n",
       " (22.0, 26.607469596681057),\n",
       " (20.600000000000001, 19.198411377614775),\n",
       " (21.600000000000001, 25.205688363153889),\n",
       " (25.199999999999999, 27.277765870628485),\n",
       " (23.300000000000001, 28.407167797423693),\n",
       " (23.100000000000001, 25.114243202337807),\n",
       " (23.5, 29.671501994588635),\n",
       " (13.0, 17.345626943132658),\n",
       " (22.5, 17.774959624147677),\n",
       " (19.0, 21.481473148702413),\n",
       " (31.600000000000001, 32.539373571254288),\n",
       " (20.699999999999999, 25.210734061861203),\n",
       " (21.699999999999999, 20.69190367591499),\n",
       " (16.800000000000001, 20.385215390818921),\n",
       " (20.100000000000001, 16.109912147007478),\n",
       " (14.6, 18.954818954497323),\n",
       " (19.600000000000001, 18.572859086700376),\n",
       " (29.800000000000001, 25.837813395627364)]"
      ]
     },
     "execution_count": 7,
     "metadata": {},
     "output_type": "execute_result"
    }
   ],
   "source": [
    "# wrap zip with list to modify for Python 3\n",
    "# show the real values and the predicted values\n",
    "list(zip(y_test, y_pred_lr))"
   ]
  },
  {
   "cell_type": "code",
   "execution_count": 8,
   "metadata": {
    "collapsed": false
   },
   "outputs": [
    {
     "data": {
      "text/plain": [
       "[<matplotlib.lines.Line2D at 0xadb69e8>,\n",
       " <matplotlib.lines.Line2D at 0xadb6be0>]"
      ]
     },
     "execution_count": 8,
     "metadata": {},
     "output_type": "execute_result"
    },
    {
     "data": {
      "image/png": "[encoded data removed]",
      "text/plain": [
       "<matplotlib.figure.Figure at 0x429ae48>"
      ]
     },
     "metadata": {},
     "output_type": "display_data"
    }
   ],
   "source": [
    "# this plot is showing that the predicted values seem to closely match the actual values except for \n",
    "# extreme situations\n",
    "plt.plot(list(zip(y_test, y_pred_lr)))"
   ]
  },
  {
   "cell_type": "markdown",
   "metadata": {},
   "source": [
    "Measuring R^2 and MSE:"
   ]
  },
  {
   "cell_type": "code",
   "execution_count": 9,
   "metadata": {
    "collapsed": false
   },
   "outputs": [
    {
     "name": "stdout",
     "output_type": "stream",
     "text": [
      "R squared for linear regression: 0.622382\n"
     ]
    }
   ],
   "source": [
    "# measure R^2\n",
    "r2_score_lr = r2_score(y_test, y_pred_lr)\n",
    "print('R squared for linear regression: %f' %r2_score_lr)"
   ]
  },
  {
   "cell_type": "code",
   "execution_count": 10,
   "metadata": {
    "collapsed": false
   },
   "outputs": [
    {
     "name": "stdout",
     "output_type": "stream",
     "text": [
      "RSME for linear regression: 5.148271\n"
     ]
    }
   ],
   "source": [
    "# measure RSME\n",
    "rsme=math.sqrt(mean_squared_error(y_test, y_pred_lr ))\n",
    "print('RSME for linear regression: %f' %rsme)"
   ]
  },
  {
   "cell_type": "markdown",
   "metadata": {},
   "source": [
    "2nd part:  a new model using L2 regularization:"
   ]
  },
  {
   "cell_type": "code",
   "execution_count": 11,
   "metadata": {
    "collapsed": false
   },
   "outputs": [],
   "source": [
    "lasso=Lasso() #create new instance of lasso\n",
    "\n",
    "# give lasso object the training data, and then make the prediction for test data\n",
    "y_pred_lasso=lasso.fit(X_train, y_train).predict(X_test) \n"
   ]
  },
  {
   "cell_type": "code",
   "execution_count": 12,
   "metadata": {
    "collapsed": false
   },
   "outputs": [
    {
     "data": {
      "text/plain": [
       "[(18.0, 20.449477148399644),\n",
       " (22.0, 27.600242585935167),\n",
       " (16.199999999999999, 20.816073931549141),\n",
       " (43.5, 35.922928847895342),\n",
       " (14.4, 5.1496457252043584),\n",
       " (7.2000000000000002, 12.810286228452695),\n",
       " (20.100000000000001, 18.187432594430756),\n",
       " (15.1, 17.058312897173749),\n",
       " (18.5, 19.945457807760832),\n",
       " (17.399999999999999, 21.970544951396633),\n",
       " (21.100000000000001, 20.610665176686133),\n",
       " (17.100000000000001, 18.942867079645783),\n",
       " (10.4, 22.584257110559889),\n",
       " (11.9, 7.0002656176961757),\n",
       " (19.800000000000001, 24.70373504154016),\n",
       " (19.600000000000001, 22.079757407789518),\n",
       " (19.399999999999999, 24.771589218917306),\n",
       " (13.1, 15.747799309745904),\n",
       " (19.800000000000001, 19.048751419411438),\n",
       " (16.699999999999999, 20.78103365018081),\n",
       " (16.100000000000001, 19.525335050983191),\n",
       " (24.699999999999999, 22.113409697045032),\n",
       " (17.800000000000001, 18.467633502340977),\n",
       " (14.0, 15.098702975084517),\n",
       " (21.199999999999999, 23.632552131566772),\n",
       " (10.5, 15.132191467988655),\n",
       " (10.5, 7.057883307567705),\n",
       " (23.699999999999999, 26.101971109443546),\n",
       " (18.5, 20.980680832703939),\n",
       " (50.0, 22.754995562180753),\n",
       " (21.0, 22.038468537891156),\n",
       " (22.0, 19.713639241462189),\n",
       " (29.600000000000001, 29.669562132523968),\n",
       " (17.0, 22.90635386214975),\n",
       " (20.800000000000001, 23.096960443645667),\n",
       " (18.300000000000001, 19.480463267018525),\n",
       " (15.199999999999999, 17.709670944868698),\n",
       " (18.699999999999999, 21.918022846981508),\n",
       " (14.9, 19.494379916472116),\n",
       " (12.800000000000001, 13.94591399001442),\n",
       " (7.2000000000000002, 18.335981002164672),\n",
       " (23.300000000000001, 24.137898768242874),\n",
       " (22.399999999999999, 18.964016679455405),\n",
       " (20.399999999999999, 23.369621863000802),\n",
       " (18.199999999999999, 19.971540575288312),\n",
       " (23.699999999999999, 27.876959375256853),\n",
       " (23.100000000000001, 22.515574355077032),\n",
       " (28.399999999999999, 27.262055162037555),\n",
       " (20.100000000000001, 22.323086246235771),\n",
       " (37.0, 31.275262104069558),\n",
       " (21.800000000000001, 20.448749031702306),\n",
       " (16.699999999999999, 19.73719806600052),\n",
       " (20.399999999999999, 19.810395479838721),\n",
       " (44.0, 34.057877504507786),\n",
       " (36.399999999999999, 33.403045007475285),\n",
       " (35.399999999999999, 31.146741830888637),\n",
       " (23.399999999999999, 24.502915326606125),\n",
       " (17.800000000000001, 24.589930197911194),\n",
       " (19.399999999999999, 18.437611425514763),\n",
       " (50.0, 21.464952428548429),\n",
       " (25.0, 27.837874217848082),\n",
       " (21.899999999999999, 36.077468214349814),\n",
       " (10.4, 9.430064465162328),\n",
       " (22.699999999999999, 21.574398984210092),\n",
       " (18.800000000000001, 18.180419281338949),\n",
       " (35.399999999999999, 31.849158501756751),\n",
       " (12.0, 11.321261064086189),\n",
       " (21.699999999999999, 21.586434372986417),\n",
       " (22.5, 21.479187067060906),\n",
       " (10.9, 18.649447487472372),\n",
       " (14.5, 15.688847816887243),\n",
       " (23.899999999999999, 25.565439228722401),\n",
       " (22.800000000000001, 24.731691842038501),\n",
       " (19.699999999999999, 22.020686381382415),\n",
       " (34.899999999999999, 32.266850665358184),\n",
       " (21.399999999999999, 19.998643827436368),\n",
       " (24.5, 28.399031086618418),\n",
       " (23.100000000000001, 17.249613441262113),\n",
       " (19.399999999999999, 19.637044310848978),\n",
       " (22.800000000000001, 26.297191879684721),\n",
       " (18.5, 24.083414814921326),\n",
       " (20.300000000000001, 22.518191620191427),\n",
       " (22.600000000000001, 20.919610927626202),\n",
       " (19.100000000000001, 16.038153101620072),\n",
       " (45.399999999999999, 35.995769233944856),\n",
       " (25.0, 25.6406375099006),\n",
       " (43.100000000000001, 34.186001296463608),\n",
       " (17.600000000000001, 19.294973658869353),\n",
       " (9.5, 15.094855768273501),\n",
       " (17.100000000000001, 21.297264943539954),\n",
       " (24.800000000000001, 26.570989168874078),\n",
       " (11.5, 13.860736608248828),\n",
       " (21.5, 20.096949905814483),\n",
       " (18.399999999999999, 17.882308878475094),\n",
       " (22.899999999999999, 23.715429467078117),\n",
       " (18.899999999999999, 21.416994948636919),\n",
       " (50.0, 38.794011551084957),\n",
       " (13.1, 16.89778544880043),\n",
       " (28.0, 27.927608088837506),\n",
       " (23.800000000000001, 25.687993078130667),\n",
       " (33.200000000000003, 30.790938713623721),\n",
       " (18.5, 16.594715864437866),\n",
       " (17.899999999999999, 2.2850763224288073),\n",
       " (23.300000000000001, 28.478055774728077),\n",
       " (7.0, 12.291529874409651),\n",
       " (22.699999999999999, 23.698616356711042),\n",
       " (27.899999999999999, 18.66064146527771),\n",
       " (25.0, 24.917692346293446),\n",
       " (11.300000000000001, 13.200340553883871),\n",
       " (22.0, 26.401577875642914),\n",
       " (20.600000000000001, 19.436797883127735),\n",
       " (21.600000000000001, 25.485545349251307),\n",
       " (25.199999999999999, 25.399514748002495),\n",
       " (23.300000000000001, 27.828106462790743),\n",
       " (23.100000000000001, 25.248790905685674),\n",
       " (23.5, 28.084642468952005),\n",
       " (13.0, 18.698115504672909),\n",
       " (22.5, 17.885292837756406),\n",
       " (19.0, 21.779420593706483),\n",
       " (31.600000000000001, 30.224123824808487),\n",
       " (20.699999999999999, 20.598204980522791),\n",
       " (21.699999999999999, 20.709564586571499),\n",
       " (16.800000000000001, 20.403669198068588),\n",
       " (20.100000000000001, 20.116323544240007),\n",
       " (14.6, 18.64174842009804),\n",
       " (19.600000000000001, 20.667267664451018),\n",
       " (29.800000000000001, 25.169102372257825)]"
      ]
     },
     "execution_count": 12,
     "metadata": {},
     "output_type": "execute_result"
    }
   ],
   "source": [
    "list(zip(y_test, y_pred_lasso))"
   ]
  },
  {
   "cell_type": "code",
   "execution_count": 13,
   "metadata": {
    "collapsed": false
   },
   "outputs": [
    {
     "data": {
      "text/plain": [
       "[<matplotlib.lines.Line2D at 0xb96ae80>,\n",
       " <matplotlib.lines.Line2D at 0xb9700b8>]"
      ]
     },
     "execution_count": 13,
     "metadata": {},
     "output_type": "execute_result"
    },
    {
     "data": {
      "image/png": "[encoded data removed]",
      "text/plain": [
       "<matplotlib.figure.Figure at 0xad62e80>"
      ]
     },
     "metadata": {},
     "output_type": "display_data"
    }
   ],
   "source": [
    "# plot showing predicted values vs actual values\n",
    "plt.plot(list(zip(y_test, y_pred_lasso)))"
   ]
  },
  {
   "cell_type": "code",
   "execution_count": 14,
   "metadata": {
    "collapsed": false
   },
   "outputs": [
    {
     "name": "stdout",
     "output_type": "stream",
     "text": [
      " Lasso R squared on the test data: 0.548520\n"
     ]
    }
   ],
   "source": [
    "r2_score_lasso = r2_score(y_test, y_pred_lasso)\n",
    "print(' Lasso R squared on the test data: %f' % r2_score_lasso)"
   ]
  },
  {
   "cell_type": "markdown",
   "metadata": {},
   "source": [
    " R squared is slightly worse for Lasso than LinearRegression\n"
   ]
  },
  {
   "cell_type": "code",
   "execution_count": 15,
   "metadata": {
    "collapsed": false
   },
   "outputs": [
    {
     "name": "stdout",
     "output_type": "stream",
     "text": [
      "RSME for Lasso: 5.629298\n"
     ]
    }
   ],
   "source": [
    "# calculate RSME for Lasso\n",
    "rsme=math.sqrt(mean_squared_error(y_test, y_pred_lasso))\n",
    "print('RSME for Lasso: %f' %rsme)"
   ]
  },
  {
   "cell_type": "markdown",
   "metadata": {},
   "source": [
    "RSME is similiar for both methods.  Possibly we can do better."
   ]
  },
  {
   "cell_type": "markdown",
   "metadata": {},
   "source": [
    "# Improving the Model by optimizing the regularization parameter:\n"
   ]
  },
  {
   "cell_type": "code",
   "execution_count": 16,
   "metadata": {
    "collapsed": false
   },
   "outputs": [],
   "source": [
    "# try for lasso \n",
    "# lower alpha parameter\n",
    "alpha = 0.01\n",
    "lasso=Lasso(alpha=alpha) #create new instance of lasso\n",
    "\n",
    "# give lasso object the training data, and then make the prediction for test data\n",
    "y_pred_lasso=lasso.fit(X_train, y_train).predict(X_test) \n"
   ]
  },
  {
   "cell_type": "code",
   "execution_count": 17,
   "metadata": {
    "collapsed": false
   },
   "outputs": [
    {
     "name": "stdout",
     "output_type": "stream",
     "text": [
      "optimized RSME for Lasso: 5.156127\n"
     ]
    }
   ],
   "source": [
    "# calculate new RSME for Lasso\n",
    "rsme=math.sqrt(mean_squared_error(y_test, y_pred_lasso))\n",
    "print('optimized RSME for Lasso: %f' %rsme)"
   ]
  },
  {
   "cell_type": "code",
   "execution_count": 18,
   "metadata": {
    "collapsed": false
   },
   "outputs": [
    {
     "name": "stdout",
     "output_type": "stream",
     "text": [
      " optimized Lasso R squared on the test data: 0.621228\n"
     ]
    }
   ],
   "source": [
    "# calculate new R squared for Lasso\n",
    "r2_score_lasso = r2_score(y_test, y_pred_lasso)\n",
    "print(' optimized Lasso R squared on the test data: %f' % r2_score_lasso)"
   ]
  },
  {
   "cell_type": "markdown",
   "metadata": {},
   "source": [
    "I was able to acheive small improvements to RSME and R Squared for \n",
    "Lasso by just setting the alpha value lower"
   ]
  },
  {
   "cell_type": "code",
   "execution_count": 19,
   "metadata": {
    "collapsed": false
   },
   "outputs": [],
   "source": [
    "# try more optimizations\n",
    "alpha = 0.01\n",
    "lasso=Lasso(alpha=alpha, tol=.04, positive=False, random_state=4) #create new instance of lasso\n",
    "\n",
    "# give lasso object the training data, and then make the prediction for test data\n",
    "y_pred_lasso=lasso.fit(X_train, y_train).predict(X_test) \n"
   ]
  },
  {
   "cell_type": "code",
   "execution_count": 20,
   "metadata": {
    "collapsed": false
   },
   "outputs": [
    {
     "name": "stdout",
     "output_type": "stream",
     "text": [
      "optimized RSME for Lasso: 5.158920\n"
     ]
    }
   ],
   "source": [
    "# calculate new RSME for Lasso\n",
    "rsme=math.sqrt(mean_squared_error(y_test, y_pred_lasso))\n",
    "print('optimized RSME for Lasso: %f' %rsme)"
   ]
  },
  {
   "cell_type": "code",
   "execution_count": 21,
   "metadata": {
    "collapsed": false
   },
   "outputs": [
    {
     "name": "stdout",
     "output_type": "stream",
     "text": [
      " optimized Lasso R squared on the test data: 0.620818\n"
     ]
    }
   ],
   "source": [
    "# calculate new R squared for Lasso\n",
    "r2_score_lasso = r2_score(y_test, y_pred_lasso)\n",
    "print(' optimized Lasso R squared on the test data: %f' % r2_score_lasso)"
   ]
  },
  {
   "cell_type": "markdown",
   "metadata": {},
   "source": [
    "<p>I tried a number of different ideas to play around with the regularization \n",
    "parameters, and some other changes but most of what I tried had little effect\n",
    "or actually made things worse.\n",
    "\n",
    "I think the fact that LinearRegression by itself seemed to perform better than\n",
    "any of the more complex things that I tried, shows that in general simple \n",
    "models tend to work really well by themselves and premature optimization should\n",
    "be avoided because it seems like it often makes the model much more complicated\n",
    "for limited (if any) gains in return."
   ]
  }
 ],
 "metadata": {
  "anaconda-cloud": {},
  "kernelspec": {
   "display_name": "Python [Root]",
   "language": "python",
   "name": "Python [Root]"
  },
  "language_info": {
   "codemirror_mode": {
    "name": "ipython",
    "version": 3
   },
   "file_extension": ".py",
   "mimetype": "text/x-python",
   "name": "python",
   "nbconvert_exporter": "python",
   "pygments_lexer": "ipython3",
   "version": "3.5.2"
  }
 },
 "nbformat": 4,
 "nbformat_minor": 0
}
