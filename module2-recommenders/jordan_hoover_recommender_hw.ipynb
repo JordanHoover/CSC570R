{
 "cells": [
  {
   "cell_type": "markdown",
   "metadata": {},
   "source": [
    "Jordan Hoover  \n",
    "CSC570R Data Science Essentials  \n",
    "Assignment: movie recommender hw"
   ]
  },
  {
   "cell_type": "code",
   "execution_count": 16,
   "metadata": {
    "collapsed": true
   },
   "outputs": [],
   "source": [
    "import pandas as pd\n",
    "import numpy as np"
   ]
  },
  {
   "cell_type": "code",
   "execution_count": 17,
   "metadata": {
    "collapsed": false
   },
   "outputs": [],
   "source": [
    "M = pd.read_csv(\"movie_reviews.csv\", index_col='Name')\n"
   ]
  },
  {
   "cell_type": "code",
   "execution_count": 18,
   "metadata": {
    "collapsed": false
   },
   "outputs": [
    {
     "data": {
      "text/html": [
       "<div>\n",
       "<table border=\"1\" class=\"dataframe\">\n",
       "  <thead>\n",
       "    <tr style=\"text-align: right;\">\n",
       "      <th></th>\n",
       "      <th>American Sniper</th>\n",
       "      <th>The Hunger Games: Mockingjay - Part 1</th>\n",
       "      <th>Guardians of the Galaxy</th>\n",
       "      <th>The Lego Movie</th>\n",
       "      <th>The Hobbit</th>\n",
       "      <th>Transformers</th>\n",
       "      <th>Malificent</th>\n",
       "      <th>Big Hero 6</th>\n",
       "      <th>Godzilla</th>\n",
       "      <th>Interstellar</th>\n",
       "      <th>How to Train your Dragon 2</th>\n",
       "      <th>Gone Girl</th>\n",
       "      <th>Divergent</th>\n",
       "      <th>The Fault in Our Stars</th>\n",
       "      <th>Unbroken</th>\n",
       "      <th>300: Rise of an Empire</th>\n",
       "    </tr>\n",
       "    <tr>\n",
       "      <th>Name</th>\n",
       "      <th></th>\n",
       "      <th></th>\n",
       "      <th></th>\n",
       "      <th></th>\n",
       "      <th></th>\n",
       "      <th></th>\n",
       "      <th></th>\n",
       "      <th></th>\n",
       "      <th></th>\n",
       "      <th></th>\n",
       "      <th></th>\n",
       "      <th></th>\n",
       "      <th></th>\n",
       "      <th></th>\n",
       "      <th></th>\n",
       "      <th></th>\n",
       "    </tr>\n",
       "  </thead>\n",
       "  <tbody>\n",
       "    <tr>\n",
       "      <th>Aarti Jaiswal</th>\n",
       "      <td>4.0</td>\n",
       "      <td>NaN</td>\n",
       "      <td>NaN</td>\n",
       "      <td>NaN</td>\n",
       "      <td>4.0</td>\n",
       "      <td>3.0</td>\n",
       "      <td>NaN</td>\n",
       "      <td>5.0</td>\n",
       "      <td>NaN</td>\n",
       "      <td>NaN</td>\n",
       "      <td>NaN</td>\n",
       "      <td>4.0</td>\n",
       "      <td>NaN</td>\n",
       "      <td>NaN</td>\n",
       "      <td>NaN</td>\n",
       "      <td>NaN</td>\n",
       "    </tr>\n",
       "    <tr>\n",
       "      <th>Aditya Dharmasagar</th>\n",
       "      <td>5.0</td>\n",
       "      <td>NaN</td>\n",
       "      <td>NaN</td>\n",
       "      <td>4.0</td>\n",
       "      <td>5.0</td>\n",
       "      <td>4.0</td>\n",
       "      <td>4.0</td>\n",
       "      <td>NaN</td>\n",
       "      <td>4.0</td>\n",
       "      <td>5.0</td>\n",
       "      <td>5.0</td>\n",
       "      <td>5.0</td>\n",
       "      <td>4.0</td>\n",
       "      <td>4.0</td>\n",
       "      <td>NaN</td>\n",
       "      <td>5.0</td>\n",
       "    </tr>\n",
       "    <tr>\n",
       "      <th>Adrian Cavallaris</th>\n",
       "      <td>NaN</td>\n",
       "      <td>4.0</td>\n",
       "      <td>3.0</td>\n",
       "      <td>NaN</td>\n",
       "      <td>4.0</td>\n",
       "      <td>2.0</td>\n",
       "      <td>NaN</td>\n",
       "      <td>NaN</td>\n",
       "      <td>NaN</td>\n",
       "      <td>NaN</td>\n",
       "      <td>NaN</td>\n",
       "      <td>NaN</td>\n",
       "      <td>4.0</td>\n",
       "      <td>NaN</td>\n",
       "      <td>NaN</td>\n",
       "      <td>NaN</td>\n",
       "    </tr>\n",
       "    <tr>\n",
       "      <th>Ahmed Muheebuddin</th>\n",
       "      <td>5.0</td>\n",
       "      <td>NaN</td>\n",
       "      <td>4.0</td>\n",
       "      <td>NaN</td>\n",
       "      <td>3.0</td>\n",
       "      <td>NaN</td>\n",
       "      <td>NaN</td>\n",
       "      <td>NaN</td>\n",
       "      <td>NaN</td>\n",
       "      <td>NaN</td>\n",
       "      <td>NaN</td>\n",
       "      <td>NaN</td>\n",
       "      <td>NaN</td>\n",
       "      <td>NaN</td>\n",
       "      <td>NaN</td>\n",
       "      <td>NaN</td>\n",
       "    </tr>\n",
       "    <tr>\n",
       "      <th>Aishwarya reddy</th>\n",
       "      <td>NaN</td>\n",
       "      <td>3.0</td>\n",
       "      <td>4.0</td>\n",
       "      <td>3.0</td>\n",
       "      <td>4.0</td>\n",
       "      <td>4.0</td>\n",
       "      <td>3.0</td>\n",
       "      <td>NaN</td>\n",
       "      <td>4.0</td>\n",
       "      <td>4.0</td>\n",
       "      <td>3.0</td>\n",
       "      <td>5.0</td>\n",
       "      <td>NaN</td>\n",
       "      <td>4.0</td>\n",
       "      <td>NaN</td>\n",
       "      <td>3.0</td>\n",
       "    </tr>\n",
       "  </tbody>\n",
       "</table>\n",
       "</div>"
      ],
      "text/plain": [
       "                    American Sniper  The Hunger Games: Mockingjay - Part 1  \\\n",
       "Name                                                                         \n",
       "Aarti Jaiswal                   4.0                                    NaN   \n",
       "Aditya Dharmasagar              5.0                                    NaN   \n",
       "Adrian Cavallaris               NaN                                    4.0   \n",
       "Ahmed Muheebuddin               5.0                                    NaN   \n",
       "Aishwarya reddy                 NaN                                    3.0   \n",
       "\n",
       "                    Guardians of the Galaxy  The Lego Movie  The Hobbit  \\\n",
       "Name                                                                      \n",
       "Aarti Jaiswal                           NaN             NaN         4.0   \n",
       "Aditya Dharmasagar                      NaN             4.0         5.0   \n",
       "Adrian Cavallaris                       3.0             NaN         4.0   \n",
       "Ahmed Muheebuddin                       4.0             NaN         3.0   \n",
       "Aishwarya reddy                         4.0             3.0         4.0   \n",
       "\n",
       "                    Transformers  Malificent  Big Hero 6  Godzilla  \\\n",
       "Name                                                                 \n",
       "Aarti Jaiswal                3.0         NaN         5.0       NaN   \n",
       "Aditya Dharmasagar           4.0         4.0         NaN       4.0   \n",
       "Adrian Cavallaris            2.0         NaN         NaN       NaN   \n",
       "Ahmed Muheebuddin            NaN         NaN         NaN       NaN   \n",
       "Aishwarya reddy              4.0         3.0         NaN       4.0   \n",
       "\n",
       "                    Interstellar  How to Train your Dragon 2  Gone Girl  \\\n",
       "Name                                                                      \n",
       "Aarti Jaiswal                NaN                         NaN        4.0   \n",
       "Aditya Dharmasagar           5.0                         5.0        5.0   \n",
       "Adrian Cavallaris            NaN                         NaN        NaN   \n",
       "Ahmed Muheebuddin            NaN                         NaN        NaN   \n",
       "Aishwarya reddy              4.0                         3.0        5.0   \n",
       "\n",
       "                    Divergent  The Fault in Our Stars  Unbroken  \\\n",
       "Name                                                              \n",
       "Aarti Jaiswal             NaN                     NaN       NaN   \n",
       "Aditya Dharmasagar        4.0                     4.0       NaN   \n",
       "Adrian Cavallaris         4.0                     NaN       NaN   \n",
       "Ahmed Muheebuddin         NaN                     NaN       NaN   \n",
       "Aishwarya reddy           NaN                     4.0       NaN   \n",
       "\n",
       "                    300: Rise of an Empire  \n",
       "Name                                        \n",
       "Aarti Jaiswal                          NaN  \n",
       "Aditya Dharmasagar                     5.0  \n",
       "Adrian Cavallaris                      NaN  \n",
       "Ahmed Muheebuddin                      NaN  \n",
       "Aishwarya reddy                        3.0  "
      ]
     },
     "execution_count": 18,
     "metadata": {},
     "output_type": "execute_result"
    }
   ],
   "source": [
    "M.head()"
   ]
  },
  {
   "cell_type": "code",
   "execution_count": 19,
   "metadata": {
    "collapsed": true
   },
   "outputs": [],
   "source": [
    "def pearson(s1, s2):\n",
    "    \"\"\"Take two pd.Series objects and return a pearson correlation.\"\"\"\n",
    "    s1_c = s1 - s1.mean()\n",
    "    s2_c = s2 - s2.mean()\n",
    "    return np.sum(s1_c * s2_c) / np.sqrt(np.sum(s1_c ** 2) * np.sum(s2_c ** 2))"
   ]
  },
  {
   "cell_type": "code",
   "execution_count": 20,
   "metadata": {
    "collapsed": true
   },
   "outputs": [],
   "source": [
    "def get_recs(movie_name, M, num):\n",
    "\n",
    "    import numpy as np\n",
    "    reviews = []\n",
    "    for title in M.columns:\n",
    "        if title == movie_name:\n",
    "            continue\n",
    "        cor = pearson(M[movie_name], M[title])\n",
    "        if np.isnan(cor):\n",
    "            continue\n",
    "        else:\n",
    "            reviews.append((title, cor))\n",
    "    \n",
    "    reviews.sort(key=lambda tup: tup[1], reverse=True)\n",
    "    return reviews[:num]"
   ]
  },
  {
   "cell_type": "markdown",
   "metadata": {},
   "source": [
    "# Question #1: What is the movie that is most simliar to 'The falut in our stars' (60 pts)"
   ]
  },
  {
   "cell_type": "code",
   "execution_count": 21,
   "metadata": {
    "collapsed": false
   },
   "outputs": [
    {
     "data": {
      "text/plain": [
       "Index(['American Sniper', 'The Hunger Games: Mockingjay - Part 1',\n",
       "       'Guardians of the Galaxy', 'The Lego Movie', 'The Hobbit',\n",
       "       'Transformers', 'Malificent', 'Big Hero 6', 'Godzilla', 'Interstellar',\n",
       "       'How to Train your Dragon 2', 'Gone Girl', 'Divergent',\n",
       "       'The Fault in Our Stars', 'Unbroken', '300: Rise of an Empire'],\n",
       "      dtype='object')"
      ]
     },
     "execution_count": 21,
     "metadata": {},
     "output_type": "execute_result"
    }
   ],
   "source": [
    "M.columns"
   ]
  },
  {
   "cell_type": "code",
   "execution_count": 22,
   "metadata": {
    "collapsed": false
   },
   "outputs": [],
   "source": [
    "# find movie recs similiar to the fault in our stars\n",
    "q1_recs = get_recs('The Fault in Our Stars', M, 10)"
   ]
  },
  {
   "cell_type": "code",
   "execution_count": 23,
   "metadata": {
    "collapsed": false
   },
   "outputs": [
    {
     "data": {
      "text/plain": [
       "[('Interstellar', 0.2178645563053444),\n",
       " ('Malificent', 0.19789929184067265),\n",
       " ('Divergent', 0.18271984148742279),\n",
       " ('Unbroken', 0.17273639371993235),\n",
       " ('Gone Girl', 0.12917557893423595),\n",
       " ('Guardians of the Galaxy', 0.10623790358033861),\n",
       " ('How to Train your Dragon 2', 0.094321109306395534),\n",
       " ('The Lego Movie', 0.059384276314390326),\n",
       " ('Godzilla', 0.048282487345933572),\n",
       " ('The Hunger Games: Mockingjay - Part 1', 0.040894023196430006)]"
      ]
     },
     "execution_count": 23,
     "metadata": {},
     "output_type": "execute_result"
    }
   ],
   "source": [
    "q1_recs"
   ]
  },
  {
   "cell_type": "markdown",
   "metadata": {},
   "source": [
    "Q1 Answer:  \n",
    "It appears that the movie 'Interstellar' is the movie that is the  \n",
    "most similar to 'The Fault in Our Stars'.  It has the highest  \n",
    "correlation coefficient in user ratings vs all of the other movies.  "
   ]
  },
  {
   "cell_type": "markdown",
   "metadata": {},
   "source": [
    "# Question #2: Which movie(s) would I most like to see, based on my classmates experience? (40 pts) "
   ]
  },
  {
   "cell_type": "code",
   "execution_count": 24,
   "metadata": {
    "collapsed": false
   },
   "outputs": [
    {
     "data": {
      "text/html": [
       "<div>\n",
       "<table border=\"1\" class=\"dataframe\">\n",
       "  <thead>\n",
       "    <tr style=\"text-align: right;\">\n",
       "      <th></th>\n",
       "      <th>American Sniper</th>\n",
       "      <th>The Hunger Games: Mockingjay - Part 1</th>\n",
       "      <th>Guardians of the Galaxy</th>\n",
       "      <th>The Lego Movie</th>\n",
       "      <th>The Hobbit</th>\n",
       "      <th>Transformers</th>\n",
       "      <th>Malificent</th>\n",
       "      <th>Big Hero 6</th>\n",
       "      <th>Godzilla</th>\n",
       "      <th>Interstellar</th>\n",
       "      <th>How to Train your Dragon 2</th>\n",
       "      <th>Gone Girl</th>\n",
       "      <th>Divergent</th>\n",
       "      <th>The Fault in Our Stars</th>\n",
       "      <th>Unbroken</th>\n",
       "      <th>300: Rise of an Empire</th>\n",
       "    </tr>\n",
       "    <tr>\n",
       "      <th>Name</th>\n",
       "      <th></th>\n",
       "      <th></th>\n",
       "      <th></th>\n",
       "      <th></th>\n",
       "      <th></th>\n",
       "      <th></th>\n",
       "      <th></th>\n",
       "      <th></th>\n",
       "      <th></th>\n",
       "      <th></th>\n",
       "      <th></th>\n",
       "      <th></th>\n",
       "      <th></th>\n",
       "      <th></th>\n",
       "      <th></th>\n",
       "      <th></th>\n",
       "    </tr>\n",
       "  </thead>\n",
       "  <tbody>\n",
       "    <tr>\n",
       "      <th>Jordan Hoover</th>\n",
       "      <td>5.0</td>\n",
       "      <td>2.0</td>\n",
       "      <td>3.0</td>\n",
       "      <td>NaN</td>\n",
       "      <td>2.0</td>\n",
       "      <td>3.0</td>\n",
       "      <td>2.0</td>\n",
       "      <td>NaN</td>\n",
       "      <td>2.0</td>\n",
       "      <td>4.0</td>\n",
       "      <td>NaN</td>\n",
       "      <td>4.0</td>\n",
       "      <td>2.0</td>\n",
       "      <td>NaN</td>\n",
       "      <td>NaN</td>\n",
       "      <td>2.0</td>\n",
       "    </tr>\n",
       "  </tbody>\n",
       "</table>\n",
       "</div>"
      ],
      "text/plain": [
       "               American Sniper  The Hunger Games: Mockingjay - Part 1  \\\n",
       "Name                                                                    \n",
       "Jordan Hoover              5.0                                    2.0   \n",
       "\n",
       "               Guardians of the Galaxy  The Lego Movie  The Hobbit  \\\n",
       "Name                                                                 \n",
       "Jordan Hoover                      3.0             NaN         2.0   \n",
       "\n",
       "               Transformers  Malificent  Big Hero 6  Godzilla  Interstellar  \\\n",
       "Name                                                                          \n",
       "Jordan Hoover           3.0         2.0         NaN       2.0           4.0   \n",
       "\n",
       "               How to Train your Dragon 2  Gone Girl  Divergent  \\\n",
       "Name                                                              \n",
       "Jordan Hoover                         NaN        4.0        2.0   \n",
       "\n",
       "               The Fault in Our Stars  Unbroken  300: Rise of an Empire  \n",
       "Name                                                                     \n",
       "Jordan Hoover                     NaN       NaN                     2.0  "
      ]
     },
     "execution_count": 24,
     "metadata": {},
     "output_type": "execute_result"
    }
   ],
   "source": [
    "# Well, this is how I rated the movies: \n",
    "M.loc[M.index.isin(['Jordan Hoover'])]"
   ]
  },
  {
   "cell_type": "code",
   "execution_count": 25,
   "metadata": {
    "collapsed": false
   },
   "outputs": [
    {
     "data": {
      "text/plain": [
       "American Sniper                          5.0\n",
       "The Hunger Games: Mockingjay - Part 1    2.0\n",
       "Guardians of the Galaxy                  3.0\n",
       "The Lego Movie                           NaN\n",
       "The Hobbit                               2.0\n",
       "Transformers                             3.0\n",
       "Malificent                               2.0\n",
       "Big Hero 6                               NaN\n",
       "Godzilla                                 2.0\n",
       "Interstellar                             4.0\n",
       "How to Train your Dragon 2               NaN\n",
       "Gone Girl                                4.0\n",
       "Divergent                                2.0\n",
       "The Fault in Our Stars                   NaN\n",
       "Unbroken                                 NaN\n",
       "300: Rise of an Empire                   2.0\n",
       "Name: Jordan Hoover, dtype: float64"
      ]
     },
     "execution_count": 25,
     "metadata": {},
     "output_type": "execute_result"
    }
   ],
   "source": [
    "# another way to get my movie ratings:\n",
    "M.ix['Jordan Hoover']"
   ]
  },
  {
   "cell_type": "code",
   "execution_count": 30,
   "metadata": {
    "collapsed": false
   },
   "outputs": [
    {
     "data": {
      "text/plain": [
       "American Sniper                          5.0\n",
       "The Hunger Games: Mockingjay - Part 1    2.0\n",
       "Guardians of the Galaxy                  3.0\n",
       "The Hobbit                               2.0\n",
       "Transformers                             3.0\n",
       "Malificent                               2.0\n",
       "Godzilla                                 2.0\n",
       "Interstellar                             4.0\n",
       "Gone Girl                                4.0\n",
       "Divergent                                2.0\n",
       "300: Rise of an Empire                   2.0\n",
       "Name: Jordan Hoover, dtype: float64"
      ]
     },
     "execution_count": 30,
     "metadata": {},
     "output_type": "execute_result"
    }
   ],
   "source": [
    "# show w/out movies I haven't seen:\n",
    "M.ix['Jordan Hoover'].dropna()"
   ]
  },
  {
   "cell_type": "markdown",
   "metadata": {},
   "source": [
    "I liked American Sniper and Gone Girl the best"
   ]
  },
  {
   "cell_type": "code",
   "execution_count": 26,
   "metadata": {
    "collapsed": false
   },
   "outputs": [
    {
     "data": {
      "text/plain": [
       "[('The Lego Movie', 0.20575970080333875),\n",
       " ('Gone Girl', 0.19740127840497443),\n",
       " ('300: Rise of an Empire', 0.1630121186327102),\n",
       " ('Interstellar', 0.1556237336000498),\n",
       " ('How to Train your Dragon 2', 0.13240890548809034)]"
      ]
     },
     "execution_count": 26,
     "metadata": {},
     "output_type": "execute_result"
    }
   ],
   "source": [
    "# So compared to American Sniper, the best correlation was \n",
    "# lego movie, Gone Girl, and 300\n",
    "get_recs('American Sniper', M, 5)"
   ]
  },
  {
   "cell_type": "code",
   "execution_count": 27,
   "metadata": {
    "collapsed": false
   },
   "outputs": [
    {
     "data": {
      "text/plain": [
       "[('How to Train your Dragon 2', 0.25359363127771883),\n",
       " ('American Sniper', 0.19740127840497443),\n",
       " ('The Fault in Our Stars', 0.12917557893423595),\n",
       " ('Godzilla', 0.12897079071846515),\n",
       " ('The Lego Movie', 0.097733835711988876)]"
      ]
     },
     "execution_count": 27,
     "metadata": {},
     "output_type": "execute_result"
    }
   ],
   "source": [
    "# compared to Gone Girl, the best correlation was \n",
    "# How to train your dragon, American Sniper, The Fault in Our Stars\n",
    "# Godizlla and the lego movie\n",
    "get_recs('Gone Girl', M, 5)"
   ]
  },
  {
   "cell_type": "code",
   "execution_count": 44,
   "metadata": {
    "collapsed": false
   },
   "outputs": [
    {
     "data": {
      "text/plain": [
       "[('Godzilla', 0.29127276847011641),\n",
       " ('Transformers', 0.23049915319882666),\n",
       " ('The Fault in Our Stars', 0.2178645563053444),\n",
       " ('Malificent', 0.19456179501572501),\n",
       " ('Divergent', 0.1693909183183791)]"
      ]
     },
     "execution_count": 44,
     "metadata": {},
     "output_type": "execute_result"
    }
   ],
   "source": [
    "get_recs('Interstellar', M, 5)"
   ]
  },
  {
   "cell_type": "markdown",
   "metadata": {},
   "source": [
    "So based on the top correlations of the movies that I liked  \n",
    "the most vs my classmate's experiences, it seems like  \n",
    "I should watch the Lego Movie next, or The Fault in Our Stars\n",
    "Those are the movies that seem to come up highest on all of the lists \n",
    "that I haven't seen so far."
   ]
  },
  {
   "cell_type": "markdown",
   "metadata": {},
   "source": [
    "# Question 3: Bonus Question... For all the movies you haven't seen, can you predict how you'd rate them using your the class reviews? (10 pts)"
   ]
  },
  {
   "cell_type": "markdown",
   "metadata": {},
   "source": [
    "The movies I haven't seen from the list are: \n",
    "* The Lego Movie\n",
    "* Big Hero 6\n",
    "* How to Train your Dragon 2\n",
    "* The Fault in Our Stars\n",
    "* Unbroken"
   ]
  },
  {
   "cell_type": "markdown",
   "metadata": {},
   "source": [
    " I think I should compare each movie to what the rest of the class thought,  \n",
    " and then compare that to movies that I like, to see how I would rate them\n"
   ]
  },
  {
   "cell_type": "code",
   "execution_count": 37,
   "metadata": {
    "collapsed": false
   },
   "outputs": [
    {
     "data": {
      "text/plain": [
       "[('Guardians of the Galaxy', 0.42863738310413624),\n",
       " ('How to Train your Dragon 2', 0.25693462091371344),\n",
       " ('American Sniper', 0.20575970080333875)]"
      ]
     },
     "execution_count": 37,
     "metadata": {},
     "output_type": "execute_result"
    }
   ],
   "source": [
    "get_recs('The Lego Movie',M,3)"
   ]
  },
  {
   "cell_type": "markdown",
   "metadata": {},
   "source": [
    "I think I would give the Lego movie a 3.5 based on the correlation with  \n",
    "American Sniper, which I really liked, but that is 3rd on the list"
   ]
  },
  {
   "cell_type": "code",
   "execution_count": 40,
   "metadata": {
    "collapsed": false
   },
   "outputs": [
    {
     "data": {
      "text/plain": [
       "[('Transformers', 0.14282542623591735),\n",
       " ('How to Train your Dragon 2', 0.11424420459501625),\n",
       " ('The Hunger Games: Mockingjay - Part 1', 0.10655519417633605),\n",
       " ('Guardians of the Galaxy', 0.055263957685269323)]"
      ]
     },
     "execution_count": 40,
     "metadata": {},
     "output_type": "execute_result"
    }
   ],
   "source": [
    "get_recs('Big Hero 6',M,4)"
   ]
  },
  {
   "cell_type": "markdown",
   "metadata": {},
   "source": [
    "These movies are either movies I didn't see or thought were only so so,  \n",
    "so I guess that I would rate Big Hero 6 around a 2"
   ]
  },
  {
   "cell_type": "code",
   "execution_count": 41,
   "metadata": {
    "collapsed": false
   },
   "outputs": [
    {
     "data": {
      "text/plain": [
       "[('The Lego Movie', 0.25693462091371344),\n",
       " ('Gone Girl', 0.25359363127771883),\n",
       " ('Godzilla', 0.23015699726560557),\n",
       " ('Divergent', 0.18372324226205478)]"
      ]
     },
     "execution_count": 41,
     "metadata": {},
     "output_type": "execute_result"
    }
   ],
   "source": [
    "get_recs('How to Train your Dragon 2',M,4)"
   ]
  },
  {
   "cell_type": "markdown",
   "metadata": {},
   "source": [
    "The top correlated movies for How to Train your Dragon, are one I haven't seen,  \n",
    "that was recommended to me based on what I like, and then another movie that I  \n",
    "do like, so I think I would rate How to Train your Dragon 2 a 4"
   ]
  },
  {
   "cell_type": "code",
   "execution_count": 43,
   "metadata": {
    "collapsed": false
   },
   "outputs": [
    {
     "data": {
      "text/plain": [
       "[('Interstellar', 0.2178645563053444),\n",
       " ('Malificent', 0.19789929184067265),\n",
       " ('Divergent', 0.18271984148742279),\n",
       " ('Unbroken', 0.17273639371993235)]"
      ]
     },
     "execution_count": 43,
     "metadata": {},
     "output_type": "execute_result"
    }
   ],
   "source": [
    "get_recs('The Fault in Our Stars',M,4)"
   ]
  },
  {
   "cell_type": "markdown",
   "metadata": {},
   "source": [
    "I liked Intersteller, but not so much Malificent or Divergent.  \n",
    "So I think I would end up giving this movie a 2.5"
   ]
  },
  {
   "cell_type": "code",
   "execution_count": 45,
   "metadata": {
    "collapsed": false
   },
   "outputs": [
    {
     "data": {
      "text/plain": [
       "[('The Fault in Our Stars', 0.17273639371993235),\n",
       " ('Malificent', 0.15164033049312797),\n",
       " ('Divergent', 0.14176030986519336),\n",
       " ('Interstellar', 0.12028844173167248)]"
      ]
     },
     "execution_count": 45,
     "metadata": {},
     "output_type": "execute_result"
    }
   ],
   "source": [
    "get_recs('Unbroken',M,4)"
   ]
  },
  {
   "cell_type": "markdown",
   "metadata": {},
   "source": [
    "Unbroken has high correlation with a movies I haven't seen,  \n",
    "and movies that I didn't think were that great,  \n",
    "and then moives that I did like but lower down the correlation list.  \n",
    "Based on that I think I would rate Unbroken as a 2.5"
   ]
  }
 ],
 "metadata": {
  "anaconda-cloud": {},
  "kernelspec": {
   "display_name": "Python [Root]",
   "language": "python",
   "name": "Python [Root]"
  },
  "language_info": {
   "codemirror_mode": {
    "name": "ipython",
    "version": 3
   },
   "file_extension": ".py",
   "mimetype": "text/x-python",
   "name": "python",
   "nbconvert_exporter": "python",
   "pygments_lexer": "ipython3",
   "version": "3.5.2"
  }
 },
 "nbformat": 4,
 "nbformat_minor": 0
}
