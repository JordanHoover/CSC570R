{
 "cells": [
  {
   "cell_type": "code",
   "execution_count": 1,
   "metadata": {
    "collapsed": true
   },
   "outputs": [],
   "source": [
    "#  Jordan Hoover\n",
    "#  CSC570R Fall 2016\n",
    "#  Assignment: \n",
    "#  LSA lab, using Python 3.5"
   ]
  },
  {
   "cell_type": "markdown",
   "metadata": {},
   "source": [
    "# LSA lab: \n",
    "Latent Semantic Analysis (LSA) on newsgroup posts"
   ]
  },
  {
   "cell_type": "markdown",
   "metadata": {},
   "source": [
    "Steps: \n",
    "<li>First Steps are to import needed modules and grab the dataset, which are\n",
    "the newsgroup posts.  I chose to use sci.electronics, but experimented using other newsgroups as well\n",
    "\n",
    "<li> Then I need to split up or 'tokenize' the actual words that are in all these documents that I have \n",
    "\n",
    "<li> After pulling the words out of all the documents, then I need to run the LSA\n"
   ]
  },
  {
   "cell_type": "code",
   "execution_count": 2,
   "metadata": {
    "collapsed": false
   },
   "outputs": [],
   "source": [
    "import pandas as pd\n",
    "from sklearn.datasets import fetch_20newsgroups\n",
    "categories = ['comp.sys.ibm.pc.hardware'] # name of newsgroup to use here\n",
    "dataset = fetch_20newsgroups(subset='all',shuffle=True, random_state=42, categories=categories)\n",
    "corpus = dataset.data #corpus is now a list of documents(strings) from sci.electronics\n"
   ]
  },
  {
   "cell_type": "code",
   "execution_count": 3,
   "metadata": {
    "collapsed": false
   },
   "outputs": [],
   "source": [
    "from bs4 import BeautifulSoup\n",
    "import nltk\n",
    "from nltk.corpus import stopwords\n",
    "from sklearn.feature_extraction.text import TfidfVectorizer\n",
    "from sklearn.decomposition import TruncatedSVD"
   ]
  },
  {
   "cell_type": "code",
   "execution_count": 4,
   "metadata": {
    "collapsed": false
   },
   "outputs": [
    {
     "name": "stdout",
     "output_type": "stream",
     "text": [
      "[nltk_data] Downloading package stopwords to\n",
      "[nltk_data]     C:\\Users\\admin130\\AppData\\Roaming\\nltk_data...\n",
      "[nltk_data]   Package stopwords is already up-to-date!\n"
     ]
    },
    {
     "data": {
      "text/plain": [
       "True"
      ]
     },
     "execution_count": 4,
     "metadata": {},
     "output_type": "execute_result"
    }
   ],
   "source": [
    "nltk.download('stopwords')"
   ]
  },
  {
   "cell_type": "code",
   "execution_count": 5,
   "metadata": {
    "collapsed": false
   },
   "outputs": [],
   "source": [
    "stopset = set(stopwords.words('english'))\n",
    "stopset.update(['\\n'])"
   ]
  },
  {
   "cell_type": "markdown",
   "metadata": {},
   "source": [
    "Now, we have the dataset, as a list of documents in 'corpus'\n",
    "Next, I will use scikit-learn's TF-IDF vectorizer on my corpus and it will be \n",
    "converted into a sparse matrix of TFIDF Features "
   ]
  },
  {
   "cell_type": "code",
   "execution_count": 6,
   "metadata": {
    "collapsed": false
   },
   "outputs": [
    {
     "data": {
      "text/plain": [
       "\"From: nelson@crynwr.com (Russell Nelson)\\nSubject: IP numbers on Ethernet Cards \\nDistribution: world\\nOrganization: Crynwr Software\\nLines: 16\\n\\nIn article <1993Apr21.162512.217@uvm.edu> djohnson@moose.uvm.edu writes:\\n\\n   Is it possible through either pin configuration or through software\\n   programming to change the IP numbers on an ethernet card?\\n\\nThe Ethernet card doesn't use the IP number (32-bits, usually\\n#.#.#.#); it uses the Ethernet address (48-bits, usually\\n#:#:#:#:#:#). I have never run across an Ethernet controller that\\ncannot be programmed to use an address that is not assigned to it.\\nDECNET requires this feature.\\n\\nHowever, that said, there is no reason to ever change the Ethernet\\naddress.  They are globally unique, the first three bytes being\\nassigned to the manufacturer by the IEEE, and the last three by the\\nmanufacturer.\\n\\n-russ <nelson@crynwr.com> What canst *thou* say?\\nCrynwr Software           Crynwr Software sells packet driver support.\\n11 Grant St.              315-268-1925 Voice  |  LPF member - ask me about\\nPotsdam, NY 13676         315-268-9201 FAX    |  the harm software patents do.\\n\""
      ]
     },
     "execution_count": 6,
     "metadata": {},
     "output_type": "execute_result"
    }
   ],
   "source": [
    "# Before running the vectorizer, first document/post in my corpus looks like: \n",
    "corpus[0]"
   ]
  },
  {
   "cell_type": "code",
   "execution_count": 7,
   "metadata": {
    "collapsed": false
   },
   "outputs": [],
   "source": [
    "# run vectorizer\n",
    "vectorizer = TfidfVectorizer(stop_words=stopset, \n",
    "                             use_idf=True, ngram_range=(1, 3))\n",
    "X= vectorizer.fit_transform(corpus)\n"
   ]
  },
  {
   "cell_type": "markdown",
   "metadata": {},
   "source": [
    "After running vectorizer, first document looks like: "
   ]
  },
  {
   "cell_type": "code",
   "execution_count": 8,
   "metadata": {
    "collapsed": false
   },
   "outputs": [
    {
     "data": {
      "text/plain": [
       "<1x178196 sparse matrix of type '<class 'numpy.float64'>'\n",
       "\twith 308 stored elements in Compressed Sparse Row format>"
      ]
     },
     "execution_count": 8,
     "metadata": {},
     "output_type": "execute_result"
    }
   ],
   "source": [
    "X[0]"
   ]
  },
  {
   "cell_type": "code",
   "execution_count": 17,
   "metadata": {
    "collapsed": false
   },
   "outputs": [
    {
     "name": "stdout",
     "output_type": "stream",
     "text": [
      "  (0, 78293)\t0.0524382715955\n",
      "  (0, 67971)\t0.0524382715955\n",
      "  (0, 15642)\t0.0524382715955\n",
      "  (0, 7488)\t0.0524382715955\n",
      "  (0, 8450)\t0.0524382715955\n",
      "  (0, 2669)\t0.0524382715955\n",
      "  (0, 113648)\t0.0524382715955\n",
      "  (0, 124997)\t0.0524382715955\n",
      "  (0, 24436)\t0.0524382715955\n",
      "  (0, 102927)\t0.0524382715955\n",
      "  (0, 98103)\t0.0524382715955\n",
      "  (0, 169937)\t0.0524382715955\n",
      "  (0, 4715)\t0.0524382715955\n",
      "  (0, 7480)\t0.0524382715955\n",
      "  (0, 8449)\t0.0524382715955\n",
      "  (0, 149031)\t0.0524382715955\n",
      "  (0, 75894)\t0.0524382715955\n",
      "  (0, 1728)\t0.0524382715955\n",
      "  (0, 152849)\t0.0524382715955\n",
      "  (0, 58000)\t0.0524382715955\n",
      "  (0, 118580)\t0.0524382715955\n",
      "  (0, 141227)\t0.0524382715955\n",
      "  (0, 146397)\t0.0524382715955\n",
      "  (0, 48469)\t0.0524382715955\n",
      "  (0, 146160)\t0.0524382715955\n",
      "  :\t:\n",
      "  (0, 124280)\t0.0247856220074\n",
      "  (0, 176036)\t0.0153717666755\n",
      "  (0, 107138)\t0.0473882358448\n",
      "  (0, 55087)\t0.0473882358448\n",
      "  (0, 60098)\t0.0236552107682\n",
      "  (0, 167791)\t0.0947764716895\n",
      "  (0, 6257)\t0.0444341543032\n",
      "  (0, 3828)\t0.0524382715955\n",
      "  (0, 5071)\t0.038261028874\n",
      "  (0, 23785)\t0.0157171233441\n",
      "  (0, 3471)\t0.0197766323456\n",
      "  (0, 95318)\t0.00731536865581\n",
      "  (0, 146072)\t0.102789934904\n",
      "  (0, 116520)\t0.00745815565932\n",
      "  (0, 175068)\t0.0216429915671\n",
      "  (0, 54924)\t0.0175582271609\n",
      "  (0, 36068)\t0.0235120685223\n",
      "  (0, 64634)\t0.207864946484\n",
      "  (0, 113523)\t0.0686681656033\n",
      "  (0, 87719)\t0.13330246291\n",
      "  (0, 151165)\t0.00728566153398\n",
      "  (0, 136962)\t0.0444341543032\n",
      "  (0, 40774)\t0.0273132450911\n",
      "  (0, 48460)\t0.24742095027\n",
      "  (0, 110615)\t0.148452570162\n"
     ]
    }
   ],
   "source": [
    "print(X[0])"
   ]
  },
  {
   "cell_type": "code",
   "execution_count": 19,
   "metadata": {
    "collapsed": false
   },
   "outputs": [
    {
     "data": {
      "text/plain": [
       "scipy.sparse.csr.csr_matrix"
      ]
     },
     "execution_count": 19,
     "metadata": {},
     "output_type": "execute_result"
    }
   ],
   "source": [
    "type(X)"
   ]
  },
  {
   "cell_type": "code",
   "execution_count": 18,
   "metadata": {
    "collapsed": false
   },
   "outputs": [
    {
     "data": {
      "text/plain": [
       "scipy.sparse.csr.csr_matrix"
      ]
     },
     "execution_count": 18,
     "metadata": {},
     "output_type": "execute_result"
    }
   ],
   "source": [
    "type(X[0])"
   ]
  },
  {
   "cell_type": "markdown",
   "metadata": {},
   "source": [
    "Now I can do the LSA"
   ]
  },
  {
   "cell_type": "code",
   "execution_count": 10,
   "metadata": {
    "collapsed": false
   },
   "outputs": [
    {
     "data": {
      "text/plain": [
       "(982, 178196)"
      ]
     },
     "execution_count": 10,
     "metadata": {},
     "output_type": "execute_result"
    }
   ],
   "source": [
    "X.shape"
   ]
  },
  {
   "cell_type": "code",
   "execution_count": 11,
   "metadata": {
    "collapsed": false
   },
   "outputs": [
    {
     "data": {
      "text/plain": [
       "(1, 178196)"
      ]
     },
     "execution_count": 11,
     "metadata": {},
     "output_type": "execute_result"
    }
   ],
   "source": [
    "X[0].shape"
   ]
  },
  {
   "cell_type": "code",
   "execution_count": 12,
   "metadata": {
    "collapsed": false
   },
   "outputs": [
    {
     "data": {
      "text/plain": [
       "TruncatedSVD(algorithm='randomized', n_components=5, n_iter=200,\n",
       "       random_state=None, tol=0.0)"
      ]
     },
     "execution_count": 12,
     "metadata": {},
     "output_type": "execute_result"
    }
   ],
   "source": [
    "# I experimented with adjusting number of total concepts by adjusting n_components\n",
    "lsa = TruncatedSVD(n_components=5, n_iter=200)\n",
    "lsa.fit(X)"
   ]
  },
  {
   "cell_type": "code",
   "execution_count": 13,
   "metadata": {
    "collapsed": false
   },
   "outputs": [
    {
     "data": {
      "text/plain": [
       "array([ 0.00953853,  0.00025195,  0.00025195, ...,  0.00034832,\n",
       "        0.00034832,  0.00034832])"
      ]
     },
     "execution_count": 13,
     "metadata": {},
     "output_type": "execute_result"
    }
   ],
   "source": [
    "# show what the first row for V looks like\n",
    "lsa.components_[0]"
   ]
  },
  {
   "cell_type": "code",
   "execution_count": 20,
   "metadata": {
    "collapsed": false
   },
   "outputs": [
    {
     "name": "stdout",
     "output_type": "stream",
     "text": [
      "3.5.2 |Anaconda 4.1.1 (64-bit)| (default, Jul  5 2016, 11:41:13) [MSC v.1900 64 bit (AMD64)]\n"
     ]
    }
   ],
   "source": [
    "# Show versions I am using, for reference\n",
    "import sys\n",
    "print(sys.version)"
   ]
  },
  {
   "cell_type": "code",
   "execution_count": 15,
   "metadata": {
    "collapsed": false
   },
   "outputs": [
    {
     "name": "stdout",
     "output_type": "stream",
     "text": [
      "Concept 0:\n",
      "scsi\n",
      "ide\n",
      "drive\n",
      "edu\n",
      "com\n",
      "bus\n",
      "controller\n",
      "card\n",
      "ibm\n",
      "drives\n",
      "\n",
      "Concept 1:\n",
      "scsi\n",
      "organization\n",
      "16\n",
      "use\n",
      "problem\n",
      "using\n",
      "system\n",
      "00 01 02\n",
      "two\n",
      "dos\n",
      "\n",
      "Concept 2:\n",
      "ide\n",
      "drive\n",
      "writes\n",
      "one\n",
      "use\n",
      "drives\n",
      "article\n",
      "16\n",
      "would\n",
      "00 01 02\n",
      "\n",
      "Concept 3:\n",
      "com\n",
      "ide\n",
      "lines\n",
      "know\n",
      "bit\n",
      "bus\n",
      "os\n",
      "dma\n",
      "writes\n",
      "need\n",
      "\n",
      "Concept 4:\n",
      "ide\n",
      "article\n",
      "time\n",
      "host\n",
      "austin\n",
      "system\n",
      "00 01 02\n",
      "one\n",
      "scsi\n",
      "writes\n",
      "\n"
     ]
    }
   ],
   "source": [
    "terms = vectorizer.get_feature_names()\n",
    "for i, comp in enumerate(lsa.components_):\n",
    "    termsInComp = zip (terms, comp)\n",
    "    sortedTerms = sorted(termsInComp, key=lambda x: x[1], reverse =True)[:10]\n",
    "    print(\"Concept %d:\" %i)\n",
    "    for term in sortedTerms:\n",
    "        print(term[0])\n",
    "    print(\"\")"
   ]
  },
  {
   "cell_type": "code",
   "execution_count": 16,
   "metadata": {
    "collapsed": false
   },
   "outputs": [
    {
     "data": {
      "text/plain": [
       "array([[  9.53852565e-03,   2.51951204e-04,   2.51951204e-04, ...,\n",
       "          3.48322565e-04,   3.48322565e-04,   3.48322565e-04],\n",
       "       [ -1.10937118e-02,   1.39663525e-02,   1.01909327e-02, ...,\n",
       "         -3.92117440e-04,  -3.97861038e-04,  -3.97861038e-04],\n",
       "       [ -1.08905451e-02,   1.01824907e-02,   1.38178411e-02, ...,\n",
       "         -7.88291056e-05,  -5.41223723e-05,  -5.41223723e-05],\n",
       "       [  1.05518408e-02,   1.15560580e-02,  -7.18131189e-02, ...,\n",
       "         -5.64526306e-04,  -5.61507394e-04,  -5.61507394e-04],\n",
       "       [  9.48883994e-03,  -3.17536422e-02,   2.92287969e-02, ...,\n",
       "          1.34657866e-04,   1.26849385e-04,   1.26849385e-04]])"
      ]
     },
     "execution_count": 16,
     "metadata": {},
     "output_type": "execute_result"
    }
   ],
   "source": [
    "lsa.components_"
   ]
  },
  {
   "cell_type": "code",
   "execution_count": null,
   "metadata": {
    "collapsed": true
   },
   "outputs": [],
   "source": []
  }
 ],
 "metadata": {
  "anaconda-cloud": {},
  "kernelspec": {
   "display_name": "Python [Root]",
   "language": "python",
   "name": "Python [Root]"
  },
  "language_info": {
   "codemirror_mode": {
    "name": "ipython",
    "version": 3
   },
   "file_extension": ".py",
   "mimetype": "text/x-python",
   "name": "python",
   "nbconvert_exporter": "python",
   "pygments_lexer": "ipython3",
   "version": "3.5.2"
  }
 },
 "nbformat": 4,
 "nbformat_minor": 1
}
