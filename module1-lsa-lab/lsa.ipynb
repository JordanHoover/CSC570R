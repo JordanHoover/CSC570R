{
 "cells": [
  {
   "cell_type": "code",
   "execution_count": 1,
   "metadata": {
    "collapsed": true
   },
   "outputs": [],
   "source": [
    "#  Jordan Hoover\n",
    "#  CSC570R Fall 2016\n",
    "#  Assignment: \n",
    "#  LSA lab, using Python 3.5"
   ]
  },
  {
   "cell_type": "markdown",
   "metadata": {},
   "source": [
    "# LSA lab: \n",
    "Latent Semantic Analysis (LSA) on newsgroup posts"
   ]
  },
  {
   "cell_type": "markdown",
   "metadata": {},
   "source": [
    "Steps: \n",
    "<li>First Steps are to import needed modules and grab the dataset, which are\n",
    "the newsgroup posts.  I chose to use sci.electronics, but experimented using other newsgroups as well\n",
    "\n",
    "<li> Then I used the TF-IDF vectorizer\n",
    "\n",
    "<li> Then do the LSA and take a look at the resulting concepts\n",
    "\n",
    "<li> Go through a loop of updating the stopwords and examining resulting concepts for information\n"
   ]
  },
  {
   "cell_type": "code",
   "execution_count": 2,
   "metadata": {
    "collapsed": false
   },
   "outputs": [],
   "source": [
    "import pandas as pd\n",
    "from sklearn.datasets import fetch_20newsgroups\n",
    "categories = ['sci.electronics'] # name of newsgroup to use here\n",
    "dataset = fetch_20newsgroups(subset='all',shuffle=True, random_state=42, categories=categories)\n",
    "corpus = dataset.data #corpus is now a list of documents(strings) from sci.electronics\n"
   ]
  },
  {
   "cell_type": "code",
   "execution_count": 3,
   "metadata": {
    "collapsed": false
   },
   "outputs": [],
   "source": [
    "import nltk\n",
    "from nltk.corpus import stopwords\n",
    "from sklearn.feature_extraction.text import TfidfVectorizer\n",
    "from sklearn.decomposition import TruncatedSVD"
   ]
  },
  {
   "cell_type": "code",
   "execution_count": 4,
   "metadata": {
    "collapsed": false
   },
   "outputs": [],
   "source": [
    "# only needed to run this once so it's commented out for future runs (I did not want to just delete it\n",
    "# though because it doesn't work without it)\n",
    "#nltk.download('stopwords')"
   ]
  },
  {
   "cell_type": "code",
   "execution_count": 5,
   "metadata": {
    "collapsed": false
   },
   "outputs": [],
   "source": [
    "stopset = set(stopwords.words('english'))\n",
    "stopset.update(['nntp', 'edu' , 'com', 'go', 'two', 'get', 'use','would', \n",
    "                'one', 'ca', '00', '1993', 'from','subject', '\\n', '000', 'even', 'also',\n",
    "                'article','posting','like','good','neal','355o33', 'dave medin', 'dave','medin',\n",
    "                'could', 'many', '0000001200', '10','20','001', 'cmptrc', 'way','something','michael','need',\n",
    "                'much', 'know','b30','josh'\n",
    "               ])"
   ]
  },
  {
   "cell_type": "markdown",
   "metadata": {},
   "source": [
    "Now, we have the dataset, as a list of documents in 'corpus'\n",
    "Next, I will use scikit-learn's TF-IDF vectorizer on my corpus and it will be \n",
    "converted into a sparse matrix of TFIDF Features "
   ]
  },
  {
   "cell_type": "code",
   "execution_count": 6,
   "metadata": {
    "collapsed": false
   },
   "outputs": [
    {
     "data": {
      "text/plain": [
       "\"From: sgberg@charon.bloomington.in.us (Stefan G. Berg)\\nSubject: Re: Motorola XC68882RC33 and RC50\\nReply-To: sgberg@charon.bloomington.in.us (Stefan Berg)\\nDistribution: world\\nOrganization: Not an Organization\\nX-NewsSoftware: GRn 1.16f (10.17.92) by Mike Schwartz & Michael B. Smith\\nLines: 25\\n\\nIn article <16APR199323531467@rosie.uh.edu> st1my@rosie.uh.edu (Stich, Christian E.) writes:\\n> I just installed a Motorola XC68882RC50 FPU in an Amiga A2630 board (25 MHz\\n> 68030 + 68882 with capability to clock the FPU separately).  Previously\\n> a MC68882RC25 was installed and everything was working perfectly.  Now the\\n> systems displays a yellow screen (indicating a exception) when it check for\\n> the presence/type of FPU.  When I reinstall an MC68882RC25 the system works\\n> fine, but with the XC68882 even at 25 MHz it does not work.  The designer\\n> of the board mentioned that putting a pullup resistor on data_strobe (470 Ohm)\\n> might help, but that didn't change anything.  Does anybody have some\\n> suggestions what I could do?  Does this look like a CPU-FPU communications\\n> problem or is the particular chip dead (it is a pull, not new)?\\n> Moreover, the place I bought it from is sending me an XC68882RC33.  I thought\\n> that the 68882RC33 were labeled MC not XC (for not finalized mask design). \\n> Are there any MC68882RC33?\\n\\nI, too, have a XC68882RC50 math coprocessor, which I installed\\nsuccesfully in my Mega Midget Racer (clocked at 33 MHz). I have tried\\nclocking my FPU at 28 to 50 MHz and it all worked just fine. I have a\\nMC68030-33 CPU. I don't know why my FPU has an XC (my original 33MHz FPU\\nwas label MC68882-33), but it seems to work fine on my system. Maybe you\\njust have a bad chip.\\n\\nStefan\\n\\nP.S. Or does it mean eXperimental Chip instead of Motorola Chip? .-)\\n\""
      ]
     },
     "execution_count": 6,
     "metadata": {},
     "output_type": "execute_result"
    }
   ],
   "source": [
    "# Before running the vectorizer, this is what a document/post in my corpus looks like:\n",
    "# I looked through some of the documents in the corpus to try to get ideas for better stop words\n",
    "corpus[5]"
   ]
  },
  {
   "cell_type": "code",
   "execution_count": 7,
   "metadata": {
    "collapsed": false
   },
   "outputs": [],
   "source": [
    "# run vectorizer\n",
    "# I tried changing ngram_range, but it did not seem to produce better or more useful insights, \n",
    "# so I left it at 3\n",
    "vectorizer = TfidfVectorizer(stop_words=stopset, \n",
    "                             use_idf=True, ngram_range=(1, 3))\n",
    "X= vectorizer.fit_transform(corpus)\n"
   ]
  },
  {
   "cell_type": "markdown",
   "metadata": {},
   "source": [
    "After running vectorizer, first document looks like: "
   ]
  },
  {
   "cell_type": "code",
   "execution_count": 8,
   "metadata": {
    "collapsed": false
   },
   "outputs": [
    {
     "data": {
      "text/plain": [
       "<1x166969 sparse matrix of type '<class 'numpy.float64'>'\n",
       "\twith 162 stored elements in Compressed Sparse Row format>"
      ]
     },
     "execution_count": 8,
     "metadata": {},
     "output_type": "execute_result"
    }
   ],
   "source": [
    "X[0]"
   ]
  },
  {
   "cell_type": "code",
   "execution_count": 9,
   "metadata": {
    "collapsed": false
   },
   "outputs": [],
   "source": [
    "#print(X[0])"
   ]
  },
  {
   "cell_type": "code",
   "execution_count": 10,
   "metadata": {
    "collapsed": false
   },
   "outputs": [
    {
     "data": {
      "text/plain": [
       "scipy.sparse.csr.csr_matrix"
      ]
     },
     "execution_count": 10,
     "metadata": {},
     "output_type": "execute_result"
    }
   ],
   "source": [
    "type(X)"
   ]
  },
  {
   "cell_type": "code",
   "execution_count": 11,
   "metadata": {
    "collapsed": false
   },
   "outputs": [
    {
     "data": {
      "text/plain": [
       "scipy.sparse.csr.csr_matrix"
      ]
     },
     "execution_count": 11,
     "metadata": {},
     "output_type": "execute_result"
    }
   ],
   "source": [
    "type(X[0])"
   ]
  },
  {
   "cell_type": "markdown",
   "metadata": {},
   "source": [
    "Now I can do the LSA"
   ]
  },
  {
   "cell_type": "code",
   "execution_count": 12,
   "metadata": {
    "collapsed": false
   },
   "outputs": [
    {
     "data": {
      "text/plain": [
       "(984, 166969)"
      ]
     },
     "execution_count": 12,
     "metadata": {},
     "output_type": "execute_result"
    }
   ],
   "source": [
    "X.shape"
   ]
  },
  {
   "cell_type": "code",
   "execution_count": 13,
   "metadata": {
    "collapsed": false
   },
   "outputs": [
    {
     "data": {
      "text/plain": [
       "(1, 166969)"
      ]
     },
     "execution_count": 13,
     "metadata": {},
     "output_type": "execute_result"
    }
   ],
   "source": [
    "X[0].shape"
   ]
  },
  {
   "cell_type": "code",
   "execution_count": 14,
   "metadata": {
    "collapsed": false
   },
   "outputs": [
    {
     "data": {
      "text/plain": [
       "TruncatedSVD(algorithm='randomized', n_components=25, n_iter=100,\n",
       "       random_state=None, tol=0.0)"
      ]
     },
     "execution_count": 14,
     "metadata": {},
     "output_type": "execute_result"
    }
   ],
   "source": [
    "# I experimented with adjusting number of total concepts by adjusting n_components\n",
    "lsa = TruncatedSVD(n_components=25, n_iter=100)\n",
    "lsa.fit(X)"
   ]
  },
  {
   "cell_type": "code",
   "execution_count": 15,
   "metadata": {
    "collapsed": false
   },
   "outputs": [
    {
     "data": {
      "text/plain": [
       "array([ 0.00026131,  0.00026131,  0.00026131, ...,  0.00154365,\n",
       "        0.00154365,  0.00154365])"
      ]
     },
     "execution_count": 15,
     "metadata": {},
     "output_type": "execute_result"
    }
   ],
   "source": [
    "# show what the first row for V looks like\n",
    "lsa.components_[0]"
   ]
  },
  {
   "cell_type": "code",
   "execution_count": 16,
   "metadata": {
    "collapsed": false
   },
   "outputs": [
    {
     "name": "stdout",
     "output_type": "stream",
     "text": [
      "3.5.2 |Anaconda 4.1.1 (64-bit)| (default, Jul  5 2016, 11:41:13) [MSC v.1900 64 bit (AMD64)]\n"
     ]
    }
   ],
   "source": [
    "# Show versions I am using, for reference\n",
    "import sys\n",
    "print(sys.version)"
   ]
  },
  {
   "cell_type": "code",
   "execution_count": 17,
   "metadata": {
    "collapsed": false,
    "scrolled": true
   },
   "outputs": [
    {
     "name": "stdout",
     "output_type": "stream",
     "text": [
      "Concept 0:\n",
      "writes\n",
      "lines\n",
      "copy\n",
      "organization\n",
      "battery\n",
      "university\n",
      "host\n",
      "ground\n",
      "power\n",
      "phone\n",
      "\n",
      "Concept 1:\n",
      "copy\n",
      "protection\n",
      "copy protection\n",
      "program\n",
      "sure\n",
      "software\n",
      "tih\n",
      "ketil\n",
      "reed\n",
      "copy protected\n",
      "\n",
      "Concept 2:\n",
      "battery\n",
      "acid\n",
      "concrete\n",
      "batteries\n",
      "003132 wcsub\n",
      "temple\n",
      "lead acid\n",
      "discharge\n",
      "ai\n",
      "uga\n",
      "\n",
      "Concept 3:\n",
      "catbyte\n",
      "dtmedin\n",
      "ingr\n",
      "phone\n",
      "003800\n",
      "catbyte ingr\n",
      "dtmedin catbyte\n",
      "dtmedin catbyte ingr\n",
      "reply\n",
      "batteries\n",
      "\n",
      "Concept 4:\n",
      "audio\n",
      "relays\n",
      "ground\n",
      "wire\n",
      "wagner\n",
      "nanaimo\n",
      "0000 ibm tieline\n",
      "used\n",
      "led\n",
      "state\n",
      "\n",
      "Concept 5:\n",
      "wire\n",
      "wiring\n",
      "may\n",
      "ground\n",
      "baden\n",
      "003800 18288\n",
      "neutral\n",
      "battery\n",
      "bison\n",
      "bison mb\n",
      "\n",
      "Concept 6:\n",
      "wire\n",
      "wiring\n",
      "ground\n",
      "university\n",
      "neutral\n",
      "gfci\n",
      "outlet\n",
      "outlets\n",
      "writes\n",
      "003132\n",
      "\n",
      "Concept 7:\n",
      "writes\n",
      "used\n",
      "power\n",
      "host\n",
      "oversampling\n",
      "may\n",
      "electronics\n",
      "university\n",
      "john\n",
      "cd\n",
      "\n",
      "Concept 8:\n",
      "radio\n",
      "plants\n",
      "organization\n",
      "ground\n",
      "mpr\n",
      "power\n",
      "please\n",
      "really\n",
      "ac\n",
      "program\n",
      "\n",
      "Concept 9:\n",
      "writes\n",
      "003132 wcsub ctstateu\n",
      "chip\n",
      "find\n",
      "us\n",
      "output\n",
      "want\n",
      "thing\n",
      "cs\n",
      "cycle\n",
      "\n",
      "Concept 10:\n",
      "0000 ibm tieline\n",
      "find\n",
      "wiring\n",
      "current\n",
      "ai\n",
      "power\n",
      "hp\n",
      "never\n",
      "host\n",
      "ink\n",
      "\n",
      "Concept 11:\n",
      "0000 ibm tieline\n",
      "host\n",
      "organization\n",
      "003132 wcsub ctstateu\n",
      "copy\n",
      "etc\n",
      "anyone\n",
      "oversampling\n",
      "uk\n",
      "distribution\n",
      "\n",
      "Concept 12:\n",
      "university\n",
      "well\n",
      "003800\n",
      "wiring\n",
      "chip\n",
      "copy\n",
      "system\n",
      "wire\n",
      "db\n",
      "line\n",
      "\n",
      "Concept 13:\n",
      "cs\n",
      "work\n",
      "want\n",
      "host\n",
      "003132\n",
      "think\n",
      "voltage\n",
      "computer\n",
      "high\n",
      "ground\n",
      "\n",
      "Concept 14:\n",
      "battery\n",
      "distribution\n",
      "computer\n",
      "high\n",
      "problem\n",
      "power\n",
      "sort\n",
      "led\n",
      "hp\n",
      "question\n",
      "\n",
      "Concept 15:\n",
      "wire\n",
      "battery\n",
      "003132 wcsub ctstateu\n",
      "using\n",
      "university\n",
      "thanks\n",
      "someone\n",
      "detector\n",
      "mpr\n",
      "box\n",
      "\n",
      "Concept 16:\n",
      "copy\n",
      "work\n",
      "wire\n",
      "battery\n",
      "writes\n",
      "lead acid\n",
      "au\n",
      "sehari\n",
      "program\n",
      "state\n",
      "\n",
      "Concept 17:\n",
      "used\n",
      "question\n",
      "may\n",
      "using\n",
      "computer\n",
      "actually\n",
      "phone\n",
      "thanks\n",
      "hp\n",
      "au\n",
      "\n",
      "Concept 18:\n",
      "thanks\n",
      "program\n",
      "ac\n",
      "box\n",
      "host\n",
      "003132 wcsub\n",
      "used\n",
      "help\n",
      "world\n",
      "want\n",
      "\n",
      "Concept 19:\n",
      "0000 ibm tieline\n",
      "thanks\n",
      "host\n",
      "003800 18288\n",
      "003132 wcsub\n",
      "003132\n",
      "circuit\n",
      "high\n",
      "blue\n",
      "writes\n",
      "\n",
      "Concept 20:\n",
      "circuit\n",
      "number\n",
      "work\n",
      "baden\n",
      "phone\n",
      "sure\n",
      "battery\n",
      "audio\n",
      "current\n",
      "ai uga\n",
      "\n",
      "Concept 21:\n",
      "003800 18288\n",
      "help\n",
      "003132 wcsub\n",
      "power\n",
      "reply\n",
      "line\n",
      "lead\n",
      "wiring\n",
      "thanks\n",
      "david\n",
      "\n",
      "Concept 22:\n",
      "003800\n",
      "line\n",
      "want\n",
      "writes\n",
      "circuit\n",
      "problem\n",
      "output\n",
      "electronics\n",
      "buy\n",
      "003800 18288\n",
      "\n",
      "Concept 23:\n",
      "host\n",
      "want\n",
      "pc\n",
      "wire\n",
      "concrete\n",
      "must\n",
      "course\n",
      "read\n",
      "lines\n",
      "able\n",
      "\n",
      "Concept 24:\n",
      "used\n",
      "003132\n",
      "time\n",
      "circuit\n",
      "anyone\n",
      "line\n",
      "thanks\n",
      "number\n",
      "probably\n",
      "organization\n",
      "\n"
     ]
    }
   ],
   "source": [
    "# print the terms \n",
    "terms = vectorizer.get_feature_names()\n",
    "for i, comp in enumerate(lsa.components_):\n",
    "    termsInComp = zip (terms, comp)\n",
    "    sortedTerms = sorted(termsInComp, key=lambda x: x[1], reverse =True)[:10]\n",
    "    print(\"Concept %d:\" %i)\n",
    "    for term in sortedTerms:\n",
    "        print(term[0])\n",
    "    print(\"\")"
   ]
  },
  {
   "cell_type": "markdown",
   "metadata": {},
   "source": [
    "# Summary of Concepts\n",
    "\n",
    "Many of my concepts seemed to have a lot of junk in them even after many iterations of changing different parameters and adding to the list of stop words, but I tried to find a few things that stood out:\n",
    "\n",
    "<li> copy protection\n",
    "<li> voltage dector \n",
    "<li> circuit wiring\n",
    "<li> audio signal, tv signal, tv signal voltage \n",
    "<li> battery, power, computer -> could be talking about powering a computer\n"
   ]
  },
  {
   "cell_type": "code",
   "execution_count": null,
   "metadata": {
    "collapsed": true
   },
   "outputs": [],
   "source": []
  },
  {
   "cell_type": "code",
   "execution_count": null,
   "metadata": {
    "collapsed": true
   },
   "outputs": [],
   "source": []
  }
 ],
 "metadata": {
  "anaconda-cloud": {},
  "kernelspec": {
   "display_name": "Python [Root]",
   "language": "python",
   "name": "Python [Root]"
  },
  "language_info": {
   "codemirror_mode": {
    "name": "ipython",
    "version": 3
   },
   "file_extension": ".py",
   "mimetype": "text/x-python",
   "name": "python",
   "nbconvert_exporter": "python",
   "pygments_lexer": "ipython3",
   "version": "3.5.2"
  }
 },
 "nbformat": 4,
 "nbformat_minor": 1
}
